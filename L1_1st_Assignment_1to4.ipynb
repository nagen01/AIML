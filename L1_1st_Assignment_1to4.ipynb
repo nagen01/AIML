{
  "nbformat": 4,
  "nbformat_minor": 0,
  "metadata": {
    "colab": {
      "name": "L1_1st_Assignment_1to4.ipynb",
      "provenance": [],
      "collapsed_sections": [],
      "include_colab_link": true
    },
    "kernelspec": {
      "name": "python3",
      "display_name": "Python 3"
    }
  },
  "cells": [
    {
      "cell_type": "markdown",
      "metadata": {
        "id": "view-in-github",
        "colab_type": "text"
      },
      "source": [
        "<a href=\"https://colab.research.google.com/github/nagen01/AIML/blob/master/L1_1st_Assignment_1to4.ipynb\" target=\"_parent\"><img src=\"https://colab.research.google.com/assets/colab-badge.svg\" alt=\"Open In Colab\"/></a>"
      ]
    },
    {
      "cell_type": "code",
      "metadata": {
        "id": "74BxD6W18hhq",
        "colab_type": "code",
        "colab": {}
      },
      "source": [
        "import pandas as pd\n",
        "import numpy as np\n",
        "import matplotlib.pyplot as plt"
      ],
      "execution_count": 0,
      "outputs": []
    },
    {
      "cell_type": "code",
      "metadata": {
        "id": "YKIovefJ8zss",
        "colab_type": "code",
        "colab": {}
      },
      "source": [
        "titanic = pd.read_csv('/content/sample_data/titanic.csv')"
      ],
      "execution_count": 0,
      "outputs": []
    },
    {
      "cell_type": "code",
      "metadata": {
        "id": "kbqCDpn083uV",
        "colab_type": "code",
        "outputId": "c182c024-98ce-484e-8a0d-000347b539c7",
        "colab": {
          "base_uri": "https://localhost:8080/",
          "height": 306
        }
      },
      "source": [
        "titanic.head()"
      ],
      "execution_count": 0,
      "outputs": [
        {
          "output_type": "execute_result",
          "data": {
            "text/html": [
              "<div>\n",
              "<style scoped>\n",
              "    .dataframe tbody tr th:only-of-type {\n",
              "        vertical-align: middle;\n",
              "    }\n",
              "\n",
              "    .dataframe tbody tr th {\n",
              "        vertical-align: top;\n",
              "    }\n",
              "\n",
              "    .dataframe thead th {\n",
              "        text-align: right;\n",
              "    }\n",
              "</style>\n",
              "<table border=\"1\" class=\"dataframe\">\n",
              "  <thead>\n",
              "    <tr style=\"text-align: right;\">\n",
              "      <th></th>\n",
              "      <th>PassengerId</th>\n",
              "      <th>Survived</th>\n",
              "      <th>Pclass</th>\n",
              "      <th>Name</th>\n",
              "      <th>Sex</th>\n",
              "      <th>Age</th>\n",
              "      <th>SibSp</th>\n",
              "      <th>Parch</th>\n",
              "      <th>Ticket</th>\n",
              "      <th>Fare</th>\n",
              "      <th>Cabin</th>\n",
              "      <th>Embarked</th>\n",
              "    </tr>\n",
              "  </thead>\n",
              "  <tbody>\n",
              "    <tr>\n",
              "      <th>0</th>\n",
              "      <td>1</td>\n",
              "      <td>0</td>\n",
              "      <td>3</td>\n",
              "      <td>Braund, Mr. Owen Harris</td>\n",
              "      <td>male</td>\n",
              "      <td>22.0</td>\n",
              "      <td>1</td>\n",
              "      <td>0</td>\n",
              "      <td>A/5 21171</td>\n",
              "      <td>7.2500</td>\n",
              "      <td>NaN</td>\n",
              "      <td>S</td>\n",
              "    </tr>\n",
              "    <tr>\n",
              "      <th>1</th>\n",
              "      <td>2</td>\n",
              "      <td>1</td>\n",
              "      <td>1</td>\n",
              "      <td>Cumings, Mrs. John Bradley (Florence Briggs Th...</td>\n",
              "      <td>female</td>\n",
              "      <td>38.0</td>\n",
              "      <td>1</td>\n",
              "      <td>0</td>\n",
              "      <td>PC 17599</td>\n",
              "      <td>71.2833</td>\n",
              "      <td>C85</td>\n",
              "      <td>C</td>\n",
              "    </tr>\n",
              "    <tr>\n",
              "      <th>2</th>\n",
              "      <td>3</td>\n",
              "      <td>1</td>\n",
              "      <td>3</td>\n",
              "      <td>Heikkinen, Miss. Laina</td>\n",
              "      <td>female</td>\n",
              "      <td>26.0</td>\n",
              "      <td>0</td>\n",
              "      <td>0</td>\n",
              "      <td>STON/O2. 3101282</td>\n",
              "      <td>7.9250</td>\n",
              "      <td>NaN</td>\n",
              "      <td>S</td>\n",
              "    </tr>\n",
              "    <tr>\n",
              "      <th>3</th>\n",
              "      <td>4</td>\n",
              "      <td>1</td>\n",
              "      <td>1</td>\n",
              "      <td>Futrelle, Mrs. Jacques Heath (Lily May Peel)</td>\n",
              "      <td>female</td>\n",
              "      <td>35.0</td>\n",
              "      <td>1</td>\n",
              "      <td>0</td>\n",
              "      <td>113803</td>\n",
              "      <td>53.1000</td>\n",
              "      <td>C123</td>\n",
              "      <td>S</td>\n",
              "    </tr>\n",
              "    <tr>\n",
              "      <th>4</th>\n",
              "      <td>5</td>\n",
              "      <td>0</td>\n",
              "      <td>3</td>\n",
              "      <td>Allen, Mr. William Henry</td>\n",
              "      <td>male</td>\n",
              "      <td>35.0</td>\n",
              "      <td>0</td>\n",
              "      <td>0</td>\n",
              "      <td>373450</td>\n",
              "      <td>8.0500</td>\n",
              "      <td>NaN</td>\n",
              "      <td>S</td>\n",
              "    </tr>\n",
              "  </tbody>\n",
              "</table>\n",
              "</div>"
            ],
            "text/plain": [
              "   PassengerId  Survived  Pclass  ...     Fare Cabin  Embarked\n",
              "0            1         0       3  ...   7.2500   NaN         S\n",
              "1            2         1       1  ...  71.2833   C85         C\n",
              "2            3         1       3  ...   7.9250   NaN         S\n",
              "3            4         1       1  ...  53.1000  C123         S\n",
              "4            5         0       3  ...   8.0500   NaN         S\n",
              "\n",
              "[5 rows x 12 columns]"
            ]
          },
          "metadata": {
            "tags": []
          },
          "execution_count": 141
        }
      ]
    },
    {
      "cell_type": "code",
      "metadata": {
        "id": "bSbFld-D9IFm",
        "colab_type": "code",
        "outputId": "73d1d0c7-1887-4531-feb3-409b6c0b698d",
        "colab": {
          "base_uri": "https://localhost:8080/",
          "height": 238
        }
      },
      "source": [
        "titanic.isnull().sum()"
      ],
      "execution_count": 0,
      "outputs": [
        {
          "output_type": "execute_result",
          "data": {
            "text/plain": [
              "PassengerId      0\n",
              "Survived         0\n",
              "Pclass           0\n",
              "Name             0\n",
              "Sex              0\n",
              "Age            177\n",
              "SibSp            0\n",
              "Parch            0\n",
              "Ticket           0\n",
              "Fare             0\n",
              "Cabin          687\n",
              "Embarked         2\n",
              "dtype: int64"
            ]
          },
          "metadata": {
            "tags": []
          },
          "execution_count": 142
        }
      ]
    },
    {
      "cell_type": "code",
      "metadata": {
        "id": "Cm0i564BCTvo",
        "colab_type": "code",
        "colab": {}
      },
      "source": [
        "titanic = titanic.drop(columns = ['Cabin'])"
      ],
      "execution_count": 0,
      "outputs": []
    },
    {
      "cell_type": "code",
      "metadata": {
        "id": "BLYHvBCGDa-P",
        "colab_type": "code",
        "outputId": "e7a93d19-bcf8-4087-fc71-65e0f8681bf5",
        "colab": {
          "base_uri": "https://localhost:8080/",
          "height": 221
        }
      },
      "source": [
        "titanic.isnull().sum()"
      ],
      "execution_count": 0,
      "outputs": [
        {
          "output_type": "execute_result",
          "data": {
            "text/plain": [
              "PassengerId      0\n",
              "Survived         0\n",
              "Pclass           0\n",
              "Name             0\n",
              "Sex              0\n",
              "Age            177\n",
              "SibSp            0\n",
              "Parch            0\n",
              "Ticket           0\n",
              "Fare             0\n",
              "Embarked         2\n",
              "dtype: int64"
            ]
          },
          "metadata": {
            "tags": []
          },
          "execution_count": 144
        }
      ]
    },
    {
      "cell_type": "code",
      "metadata": {
        "id": "Pj5lhJ0C9TpV",
        "colab_type": "code",
        "colab": {}
      },
      "source": [
        "titanic.fillna(titanic.mean(), inplace=True)"
      ],
      "execution_count": 0,
      "outputs": []
    },
    {
      "cell_type": "code",
      "metadata": {
        "id": "n68rBx_ae3El",
        "colab_type": "code",
        "outputId": "b054d754-e463-4e95-fb52-d3cb0b8b0043",
        "colab": {
          "base_uri": "https://localhost:8080/",
          "height": 221
        }
      },
      "source": [
        "titanic.isnull().sum()"
      ],
      "execution_count": 0,
      "outputs": [
        {
          "output_type": "execute_result",
          "data": {
            "text/plain": [
              "PassengerId    0\n",
              "Survived       0\n",
              "Pclass         0\n",
              "Name           0\n",
              "Sex            0\n",
              "Age            0\n",
              "SibSp          0\n",
              "Parch          0\n",
              "Ticket         0\n",
              "Fare           0\n",
              "Embarked       2\n",
              "dtype: int64"
            ]
          },
          "metadata": {
            "tags": []
          },
          "execution_count": 146
        }
      ]
    },
    {
      "cell_type": "code",
      "metadata": {
        "id": "5LEzrKNVfRz7",
        "colab_type": "code",
        "colab": {}
      },
      "source": [
        "train = titanic"
      ],
      "execution_count": 0,
      "outputs": []
    },
    {
      "cell_type": "code",
      "metadata": {
        "id": "1jVo-5mRk2jl",
        "colab_type": "code",
        "outputId": "4a26cd46-5344-4802-bffc-237fbb29d069",
        "colab": {
          "base_uri": "https://localhost:8080/",
          "height": 34
        }
      },
      "source": [
        "len(titanic)"
      ],
      "execution_count": 0,
      "outputs": [
        {
          "output_type": "execute_result",
          "data": {
            "text/plain": [
              "891"
            ]
          },
          "metadata": {
            "tags": []
          },
          "execution_count": 148
        }
      ]
    },
    {
      "cell_type": "code",
      "metadata": {
        "id": "f3-CaayRAfX1",
        "colab_type": "code",
        "colab": {}
      },
      "source": [
        "from sklearn.impute import SimpleImputer\n",
        "imp_mean = SimpleImputer( strategy='most_frequent')\n",
        "imp_mean.fit(train)\n",
        "imputed_train_df = imp_mean.transform(train)"
      ],
      "execution_count": 0,
      "outputs": []
    },
    {
      "cell_type": "code",
      "metadata": {
        "id": "7A3N7AuF9hjG",
        "colab_type": "code",
        "colab": {}
      },
      "source": [
        "#Part-4: Visualization\n",
        "def plot_bar_x(label, val, xl, yl, t):\n",
        "    # this is for plotting purpose\n",
        "    index = np.arange(len(label))\n",
        "    plt.bar(index, val)\n",
        "    plt.xlabel(xl, fontsize=15)\n",
        "    plt.ylabel(yl, fontsize=15)\n",
        "    plt.xticks(index, label, fontsize=15, rotation=30)\n",
        "    plt.title(t, fontsize=17)\n",
        "    plt.show()"
      ],
      "execution_count": 0,
      "outputs": []
    },
    {
      "cell_type": "code",
      "metadata": {
        "id": "9xVgnL0rh-x0",
        "colab_type": "code",
        "outputId": "a3060058-88ef-48b5-a106-c32967ac41ac",
        "colab": {
          "base_uri": "https://localhost:8080/",
          "height": 340
        }
      },
      "source": [
        "# 4(a) : Number of passangers survived or not\n",
        "survive = 0\n",
        "died = 0\n",
        "for i in range(len(titanic)): \n",
        "  if titanic['Survived'][i] == 1:\n",
        "    survive += 1\n",
        "  else:\n",
        "    died += 1\n",
        "\n",
        "label = ['Survived','Died']\n",
        "val = [survive, died]\n",
        "\n",
        "xl = 'Survived/Died'\n",
        "yl = 'No of Passangers'\n",
        "t = 'Number of passangers survived or not'\n",
        "\n",
        "plot_bar_x(label, val, xl, yl, t)"
      ],
      "execution_count": 0,
      "outputs": [
        {
          "output_type": "display_data",
          "data": {
            "image/png": "[encoded data removed]",
            "text/plain": [
              "<Figure size 432x288 with 1 Axes>"
            ]
          },
          "metadata": {
            "tags": []
          }
        }
      ]
    },
    {
      "cell_type": "code",
      "metadata": {
        "id": "P9IFHkeekk3W",
        "colab_type": "code",
        "outputId": "d9b96ff6-97de-41ea-e563-30757de06f18",
        "colab": {
          "base_uri": "https://localhost:8080/",
          "height": 335
        }
      },
      "source": [
        "# 4(b) : Number of passangers traveled by class 1, class 2 and class 3 \n",
        "class_1 = 0\n",
        "class_2 = 0\n",
        "class_3 = 0\n",
        "for i in range(len(titanic)): \n",
        "  if titanic['Pclass'][i] == 1:\n",
        "    class_1 += 1\n",
        "  elif titanic['Pclass'][i] ==2:\n",
        "    class_2 += 1\n",
        "  elif titanic['Pclass'][i] ==3:\n",
        "    class_3 += 1\n",
        "\n",
        "label = ['Class-1','Class-2','Class-3']\n",
        "val = [class_1,class_2,class_3]\n",
        "\n",
        "xl = 'Passenger Class'\n",
        "yl = 'No of Passangers'\n",
        "t = 'No of passangers traveled by different classes'\n",
        "\n",
        "plot_bar_x(label, val, xl, yl, t)"
      ],
      "execution_count": 0,
      "outputs": [
        {
          "output_type": "display_data",
          "data": {
            "image/png": "[encoded data removed]",
            "text/plain": [
              "<Figure size 432x288 with 1 Axes>"
            ]
          },
          "metadata": {
            "tags": []
          }
        }
      ]
    },
    {
      "cell_type": "code",
      "metadata": {
        "id": "VsEc6O_Rna3r",
        "colab_type": "code",
        "outputId": "6f978b96-3d75-40be-b849-8987a1efc837",
        "colab": {
          "base_uri": "https://localhost:8080/",
          "height": 335
        }
      },
      "source": [
        "# 4(c) : Number of Male and Female passangers\n",
        "male_count = 0\n",
        "female_count = 0\n",
        "for i in range(len(titanic)): \n",
        "  if titanic['Sex'][i] == 'male':\n",
        "    male_count += 1\n",
        "  elif titanic['Sex'][i] == 'female':\n",
        "    female_count += 1\n",
        "\n",
        "label = ['Male','Female']\n",
        "val = [male_count, female_count]\n",
        "\n",
        "xl = 'Male/Female'\n",
        "yl = 'No of Passangers'\n",
        "t = 'Number of Male and Female passangers'\n",
        "\n",
        "plot_bar_x(label, val, xl, yl, t)"
      ],
      "execution_count": 0,
      "outputs": [
        {
          "output_type": "display_data",
          "data": {
            "image/png": "[encoded data removed]",
            "text/plain": [
              "<Figure size 432x288 with 1 Axes>"
            ]
          },
          "metadata": {
            "tags": []
          }
        }
      ]
    },
    {
      "cell_type": "code",
      "metadata": {
        "id": "u0WntD2Evubc",
        "colab_type": "code",
        "outputId": "c44bf021-25f9-42b6-ef7b-bee2a47e8ebb",
        "colab": {
          "base_uri": "https://localhost:8080/",
          "height": 34
        }
      },
      "source": [
        "\"\"\"\n",
        "lab = ['Male','Female']\n",
        "v = titanic['Sex'].values\n",
        "w=0.5\n",
        "plt.bar(lab,v,w)\n",
        "\"\"\"\n"
      ],
      "execution_count": 0,
      "outputs": [
        {
          "output_type": "execute_result",
          "data": {
            "text/plain": [
              "\"\\nlab = ['Male','Female']\\nv = titanic['Sex'].values\\nw=0.5\\nplt.bar(lab,v,w)\\n\""
            ]
          },
          "metadata": {
            "tags": []
          },
          "execution_count": 154
        }
      ]
    },
    {
      "cell_type": "code",
      "metadata": {
        "id": "AjhrPxWrqY4L",
        "colab_type": "code",
        "outputId": "0e1d3e7c-a699-44a9-964d-3a34e984d9f3",
        "colab": {
          "base_uri": "https://localhost:8080/",
          "height": 283
        }
      },
      "source": [
        "# 4(d) : Histogram for difference ages\n",
        "X = titanic['Age'].values\n",
        "plt.hist(X, bins=10)\n",
        "plt.xlabel('Age range')\n",
        "plt.ylabel('No of passangers with different age group')\n",
        "plt.show()"
      ],
      "execution_count": 0,
      "outputs": [
        {
          "output_type": "display_data",
          "data": {
            "image/png": "[encoded data removed]",
            "text/plain": [
              "<Figure size 432x288 with 1 Axes>"
            ]
          },
          "metadata": {
            "tags": []
          }
        }
      ]
    },
    {
      "cell_type": "code",
      "metadata": {
        "id": "DaAkd1MQ00RK",
        "colab_type": "code",
        "outputId": "3524b1d5-3f6e-4d38-c229-199c52dba870",
        "colab": {
          "base_uri": "https://localhost:8080/",
          "height": 316
        }
      },
      "source": [
        "# 4(e-1) Stacked bar plot for Survival wise male and female\n",
        "survived = 0\n",
        "died = 0\n",
        "survived_M = 0\n",
        "died_M = 0\n",
        "\n",
        "\n",
        "for i in range(len(titanic)): \n",
        "  if titanic['Survived'][i] == 1:\n",
        "    survived += 1\n",
        "    if titanic['Sex'][i] == 'male':      \n",
        "      survived_M += 1\n",
        "  elif titanic['Survived'][i] == 0:\n",
        "    died += 1\n",
        "    if titanic['Sex'][i] == 'male':      \n",
        "      died_M += 1\n",
        "      \n",
        "\n",
        "survived_F = survived - survived_M\n",
        "died_F = died - died_M   \n",
        "stack_label = ['Survived','Died']\n",
        "stack_val_male = [survived_M, died_M]\n",
        "stack_val_female = [survived_F, died_F]\n",
        "width = 0.5\n",
        "stack_index = np.arange(len(stack_label))\n",
        "\n",
        "p1 = plt.bar(stack_label, stack_val_male, width)\n",
        "p2 = plt.bar(stack_label, stack_val_female, width,bottom=stack_val_male)\n",
        "plt.title('Survival wise Male and female')\n",
        "plt.xlabel('Survived or Not')\n",
        "plt.ylabel('No of Male and Female')\n",
        "plt.xticks(stack_index,stack_label,rotation=30)\n",
        "plt.show()"
      ],
      "execution_count": 0,
      "outputs": [
        {
          "output_type": "display_data",
          "data": {
            "image/png": "[encoded data removed]",
            "text/plain": [
              "<Figure size 432x288 with 1 Axes>"
            ]
          },
          "metadata": {
            "tags": []
          }
        }
      ]
    },
    {
      "cell_type": "code",
      "metadata": {
        "id": "EXg3mfiisftp",
        "colab_type": "code",
        "outputId": "d4f1ad2e-9312-4b5d-b9fa-ff8dbecd1b42",
        "colab": {
          "base_uri": "https://localhost:8080/",
          "height": 312
        }
      },
      "source": [
        "# 4(e-2) Stacked bar plot for Class wise passenger survival\n",
        "class_1 = 0\n",
        "class_2 = 0\n",
        "class_3 = 0\n",
        "class_1_S = 0\n",
        "class_2_S = 0\n",
        "class_3_S = 0\n",
        "\n",
        "for i in range(len(titanic)): \n",
        "  if titanic['Pclass'][i] == 1:\n",
        "    class_1 += 1\n",
        "    if titanic['Survived'][i] == 1:      \n",
        "      class_1_S += 1\n",
        "  elif titanic['Pclass'][i] ==2:\n",
        "    class_2 += 1\n",
        "    if titanic['Survived'][i] == 1:      \n",
        "      class_2_S += 1\n",
        "  elif titanic['Pclass'][i] ==3:\n",
        "    class_3 += 1\n",
        "    if titanic['Survived'][i] == 1:      \n",
        "      class_3_S += 1\n",
        "      \n",
        "\n",
        "class_1_D = class_1 - class_1_S\n",
        "class_2_D = class_2 - class_2_S\n",
        "class_3_D = class_3 - class_3_S     \n",
        "stack_label = ['Class-1','Class-2','Class-3']\n",
        "stack_val_Survived = [class_1_S, class_2_S, class_3_S]\n",
        "stack_val_Died = [class_1_D, class_2_D, class_3_D]\n",
        "width = 0.5\n",
        "stack_index = np.arange(len(stack_label))\n",
        "\n",
        "p1 = plt.bar(stack_label, stack_val_Survived, width)\n",
        "p2 = plt.bar(stack_label, stack_val_Died, width,bottom=stack_val_Survived)\n",
        "plt.title('Class wise Survival')\n",
        "plt.xlabel('Classes')\n",
        "plt.ylabel('No of Survived and Died')\n",
        "plt.xticks(stack_index,stack_label,rotation=30)\n",
        "#plt.yticks()\n",
        "plt.show()"
      ],
      "execution_count": 0,
      "outputs": [
        {
          "output_type": "display_data",
          "data": {
            "image/png": "[encoded data removed]",
            "text/plain": [
              "<Figure size 432x288 with 1 Axes>"
            ]
          },
          "metadata": {
            "tags": []
          }
        }
      ]
    },
    {
      "cell_type": "code",
      "metadata": {
        "id": "AhO1ggtHGwUD",
        "colab_type": "code",
        "colab": {}
      },
      "source": [
        "#Box Plot Age wise survival\n",
        "np.random.seed(14)\n",
        "\n",
        "spread = titanic['Age'].values\n",
        "center = spread.mean()\n",
        "high_age = max(spread)\n",
        "low_age = min(spread)\n",
        "\n",
        "#data = np.concatenate((spread, center, high_age, low_age))"
      ],
      "execution_count": 0,
      "outputs": []
    },
    {
      "cell_type": "code",
      "metadata": {
        "id": "XIVpny8vJbQK",
        "colab_type": "code",
        "outputId": "92ca6b15-809c-4bf0-fdd5-ae6074870342",
        "colab": {
          "base_uri": "https://localhost:8080/",
          "height": 34
        }
      },
      "source": [
        "center = spread.mean()\n",
        "center"
      ],
      "execution_count": 0,
      "outputs": [
        {
          "output_type": "execute_result",
          "data": {
            "text/plain": [
              "29.69911764705882"
            ]
          },
          "metadata": {
            "tags": []
          },
          "execution_count": 172
        }
      ]
    },
    {
      "cell_type": "code",
      "metadata": {
        "id": "WbONQVkOKI__",
        "colab_type": "code",
        "outputId": "234dada2-739c-41aa-d5bf-7b97cb598063",
        "colab": {
          "base_uri": "https://localhost:8080/",
          "height": 34
        }
      },
      "source": [
        "high_age = max(spread)\n",
        "high_age"
      ],
      "execution_count": 0,
      "outputs": [
        {
          "output_type": "execute_result",
          "data": {
            "text/plain": [
              "80.0"
            ]
          },
          "metadata": {
            "tags": []
          },
          "execution_count": 173
        }
      ]
    },
    {
      "cell_type": "code",
      "metadata": {
        "id": "NSkx9hZ0KNA_",
        "colab_type": "code",
        "outputId": "f54830e4-b364-43c1-956f-9341254967cc",
        "colab": {
          "base_uri": "https://localhost:8080/",
          "height": 34
        }
      },
      "source": [
        "low_age = min(spread)\n",
        "low_age"
      ],
      "execution_count": 0,
      "outputs": [
        {
          "output_type": "execute_result",
          "data": {
            "text/plain": [
              "0.42"
            ]
          },
          "metadata": {
            "tags": []
          },
          "execution_count": 174
        }
      ]
    },
    {
      "cell_type": "code",
      "metadata": {
        "id": "nCem7wK2KXoP",
        "colab_type": "code",
        "colab": {}
      },
      "source": [
        ""
      ],
      "execution_count": 0,
      "outputs": []
    }
  ]
}