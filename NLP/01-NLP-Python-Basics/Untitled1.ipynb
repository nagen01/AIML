{
 "cells": [
  {
   "cell_type": "code",
   "execution_count": 2,
   "metadata": {},
   "outputs": [
    {
     "data": {
      "text/plain": [
       "'C:\\\\Users\\\\Nagendra\\\\UPDATED_NLP_COURSE\\\\01-NLP-Python-Basics'"
      ]
     },
     "execution_count": 2,
     "metadata": {},
     "output_type": "execute_result"
    }
   ],
   "source": [
    "pwd"
   ]
  },
  {
   "cell_type": "code",
   "execution_count": 5,
   "metadata": {},
   "outputs": [
    {
     "name": "stdout",
     "output_type": "stream",
     "text": [
      "C:\\Users\\Nagendra\\anaconda3\n"
     ]
    }
   ],
   "source": [
    "cd anaconda3"
   ]
  },
  {
   "cell_type": "code",
   "execution_count": 5,
   "metadata": {},
   "outputs": [
    {
     "name": "stdout",
     "output_type": "stream",
     "text": [
      "Collecting package metadata: ...working... done\n",
      "Solving environment: ...working... \n",
      "The environment is inconsistent, please check the package plan carefully\n",
      "The following packages are causing the inconsistency:\n",
      "\n",
      "  - defaults/win-64::anaconda==custom=py37_0\n",
      "done\n",
      "\n",
      "## Package Plan ##\n",
      "\n",
      "  environment location: C:\\Users\\Nagendra\\Anaconda3\n",
      "\n",
      "  added / updated specs:\n",
      "    - spacy\n",
      "\n",
      "\n",
      "The following packages will be downloaded:\n",
      "\n",
      "    package                    |            build\n",
      "    ---------------------------|-----------------\n",
      "    certifi-2019.6.16          |           py37_1         149 KB  conda-forge\n",
      "    conda-package-handling-1.3.11|           py37_0         277 KB  conda-forge\n",
      "    cymem-2.0.2                |   py37h6538335_0          34 KB  conda-forge\n",
      "    cython-blis-0.2.4          |   py37hfa6e2cd_0         2.6 MB  conda-forge\n",
      "    jsonschema-3.0.0a3         |        py37_1000          98 KB  conda-forge\n",
      "    openssl-1.1.1c             |       hfa6e2cd_0         4.7 MB  conda-forge\n",
      "    plac-0.9.6                 |             py_1          18 KB  conda-forge\n",
      "    wasabi-0.2.2               |             py_0          18 KB  conda-forge\n",
      "    ------------------------------------------------------------\n",
      "                                           Total:         7.9 MB\n",
      "\n",
      "The following NEW packages will be INSTALLED:\n",
      "\n",
      "  conda-package-han~ conda-forge/win-64::conda-package-handling-1.3.11-py37_0\n",
      "  cymem              conda-forge/win-64::cymem-2.0.2-py37h6538335_0\n",
      "  cython-blis        conda-forge/win-64::cython-blis-0.2.4-py37hfa6e2cd_0\n",
      "  murmurhash         conda-forge/win-64::murmurhash-1.0.0-py37h6538335_0\n",
      "  plac               conda-forge/noarch::plac-0.9.6-py_1\n",
      "  preshed            conda-forge/win-64::preshed-2.0.1-py37h6538335_0\n",
      "  spacy              conda-forge/win-64::spacy-2.1.6-py37he980bc4_0\n",
      "  srsly              conda-forge/win-64::srsly-0.0.7-py37h6538335_0\n",
      "  thinc              conda-forge/win-64::thinc-7.0.8-py37he980bc4_0\n",
      "  wasabi             conda-forge/noarch::wasabi-0.2.2-py_0\n",
      "\n",
      "The following packages will be UPDATED:\n",
      "\n",
      "  certifi                                  2019.6.16-py37_0 --> 2019.6.16-py37_1\n",
      "  conda                                       4.6.14-py37_0 --> 4.7.10-py37_0\n",
      "  openssl                                 1.1.1b-hfa6e2cd_2 --> 1.1.1c-hfa6e2cd_0\n",
      "\n",
      "The following packages will be SUPERSEDED by a higher-priority channel:\n",
      "\n",
      "  jsonschema             pkgs/main::jsonschema-3.0.1-py37_0 --> conda-forge::jsonschema-3.0.0a3-py37_1000\n",
      "\n",
      "\n",
      "\n",
      "Downloading and Extracting Packages\n",
      "\n",
      "cymem-2.0.2          | 34 KB     |            |   0% \n",
      "cymem-2.0.2          | 34 KB     | ###4       |  35% \n",
      "cymem-2.0.2          | 34 KB     | ########## | 100% \n",
      "\n",
      "jsonschema-3.0.0a3   | 98 KB     |            |   0% \n",
      "jsonschema-3.0.0a3   | 98 KB     | #2         |  12% \n",
      "jsonschema-3.0.0a3   | 98 KB     | ###6       |  37% \n",
      "jsonschema-3.0.0a3   | 98 KB     | ########## | 100% \n",
      "\n",
      "certifi-2019.6.16    | 149 KB    |            |   0% \n",
      "certifi-2019.6.16    | 149 KB    | 8          |   8% \n",
      "certifi-2019.6.16    | 149 KB    | #6         |  16% \n",
      "certifi-2019.6.16    | 149 KB    | ##4        |  24% \n",
      "certifi-2019.6.16    | 149 KB    | ####       |  40% \n",
      "certifi-2019.6.16    | 149 KB    | #####6     |  56% \n",
      "certifi-2019.6.16    | 149 KB    | ########## | 100% \n",
      "\n",
      "wasabi-0.2.2         | 18 KB     |            |   0% \n",
      "wasabi-0.2.2         | 18 KB     | ######5    |  66% \n",
      "wasabi-0.2.2         | 18 KB     | ########## | 100% \n",
      "\n",
      "cython-blis-0.2.4    | 2.6 MB    |            |   0% \n",
      "cython-blis-0.2.4    | 2.6 MB    |            |   0% \n",
      "cython-blis-0.2.4    | 2.6 MB    | 1          |   1% \n",
      "cython-blis-0.2.4    | 2.6 MB    | 2          |   2% \n",
      "cython-blis-0.2.4    | 2.6 MB    | 3          |   4% \n",
      "cython-blis-0.2.4    | 2.6 MB    | 4          |   5% \n",
      "cython-blis-0.2.4    | 2.6 MB    | 5          |   6% \n",
      "cython-blis-0.2.4    | 2.6 MB    | 7          |   7% \n",
      "cython-blis-0.2.4    | 2.6 MB    | 8          |   9% \n",
      "cython-blis-0.2.4    | 2.6 MB    | #          |  10% \n",
      "cython-blis-0.2.4    | 2.6 MB    | #1         |  11% \n",
      "cython-blis-0.2.4    | 2.6 MB    | #2         |  13% \n",
      "cython-blis-0.2.4    | 2.6 MB    | #3         |  14% \n",
      "cython-blis-0.2.4    | 2.6 MB    | #4         |  15% \n",
      "cython-blis-0.2.4    | 2.6 MB    | #5         |  15% \n",
      "cython-blis-0.2.4    | 2.6 MB    | #6         |  17% \n",
      "cython-blis-0.2.4    | 2.6 MB    | #8         |  19% \n",
      "cython-blis-0.2.4    | 2.6 MB    | ##         |  21% \n",
      "cython-blis-0.2.4    | 2.6 MB    | ##3        |  24% \n",
      "cython-blis-0.2.4    | 2.6 MB    | ##6        |  27% \n",
      "cython-blis-0.2.4    | 2.6 MB    | ##9        |  30% \n",
      "cython-blis-0.2.4    | 2.6 MB    | ###3       |  33% \n",
      "cython-blis-0.2.4    | 2.6 MB    | ###7       |  37% \n",
      "cython-blis-0.2.4    | 2.6 MB    | ####1      |  41% \n",
      "cython-blis-0.2.4    | 2.6 MB    | ####6      |  46% \n",
      "cython-blis-0.2.4    | 2.6 MB    | #####2     |  52% \n",
      "cython-blis-0.2.4    | 2.6 MB    | #####8     |  58% \n",
      "cython-blis-0.2.4    | 2.6 MB    | ######6    |  66% \n",
      "cython-blis-0.2.4    | 2.6 MB    | #######5   |  75% \n",
      "cython-blis-0.2.4    | 2.6 MB    | ########1  |  81% \n",
      "cython-blis-0.2.4    | 2.6 MB    | ########6  |  87% \n",
      "cython-blis-0.2.4    | 2.6 MB    | #########1 |  92% \n",
      "cython-blis-0.2.4    | 2.6 MB    | #########5 |  96% \n",
      "cython-blis-0.2.4    | 2.6 MB    | #########9 |  99% \n",
      "cython-blis-0.2.4    | 2.6 MB    | ########## | 100% \n",
      "\n",
      "openssl-1.1.1c       | 4.7 MB    |            |   0% \n",
      "openssl-1.1.1c       | 4.7 MB    |            |   0% \n",
      "openssl-1.1.1c       | 4.7 MB    | 2          |   2% \n",
      "openssl-1.1.1c       | 4.7 MB    | 4          |   4% \n",
      "openssl-1.1.1c       | 4.7 MB    | 6          |   7% \n",
      "openssl-1.1.1c       | 4.7 MB    | 9          |  10% \n",
      "openssl-1.1.1c       | 4.7 MB    | #1         |  12% \n",
      "openssl-1.1.1c       | 4.7 MB    | #4         |  14% \n",
      "openssl-1.1.1c       | 4.7 MB    | #6         |  16% \n",
      "openssl-1.1.1c       | 4.7 MB    | #8         |  19% \n",
      "openssl-1.1.1c       | 4.7 MB    | ##         |  21% \n",
      "openssl-1.1.1c       | 4.7 MB    | ##2        |  23% \n",
      "openssl-1.1.1c       | 4.7 MB    | ##4        |  25% \n",
      "openssl-1.1.1c       | 4.7 MB    | ##6        |  27% \n",
      "openssl-1.1.1c       | 4.7 MB    | ##9        |  30% \n",
      "openssl-1.1.1c       | 4.7 MB    | ###2       |  33% \n",
      "openssl-1.1.1c       | 4.7 MB    | ###5       |  35% \n",
      "openssl-1.1.1c       | 4.7 MB    | ###8       |  38% \n",
      "openssl-1.1.1c       | 4.7 MB    | ####1      |  42% \n",
      "openssl-1.1.1c       | 4.7 MB    | ####5      |  45% \n",
      "openssl-1.1.1c       | 4.7 MB    | ####9      |  49% \n",
      "openssl-1.1.1c       | 4.7 MB    | #####2     |  53% \n",
      "openssl-1.1.1c       | 4.7 MB    | #####6     |  57% \n",
      "openssl-1.1.1c       | 4.7 MB    | ######     |  60% \n",
      "openssl-1.1.1c       | 4.7 MB    | ######4    |  64% \n",
      "openssl-1.1.1c       | 4.7 MB    | ######8    |  68% \n",
      "openssl-1.1.1c       | 4.7 MB    | #######1   |  72% \n",
      "openssl-1.1.1c       | 4.7 MB    | #######5   |  75% \n",
      "openssl-1.1.1c       | 4.7 MB    | #######8   |  78% \n",
      "openssl-1.1.1c       | 4.7 MB    | ########1  |  81% \n",
      "openssl-1.1.1c       | 4.7 MB    | ########3  |  84% \n",
      "openssl-1.1.1c       | 4.7 MB    | ########6  |  86% \n",
      "openssl-1.1.1c       | 4.7 MB    | ########8  |  88% \n",
      "openssl-1.1.1c       | 4.7 MB    | #########  |  90% \n",
      "openssl-1.1.1c       | 4.7 MB    | #########2 |  93% \n",
      "openssl-1.1.1c       | 4.7 MB    | #########4 |  95% \n",
      "openssl-1.1.1c       | 4.7 MB    | #########6 |  97% \n",
      "openssl-1.1.1c       | 4.7 MB    | #########8 |  99% \n",
      "openssl-1.1.1c       | 4.7 MB    | ########## | 100% \n",
      "\n",
      "conda-package-handli | 277 KB    |            |   0% \n",
      "conda-package-handli | 277 KB    | 4          |   4% \n",
      "conda-package-handli | 277 KB    | ####3      |  43% \n",
      "conda-package-handli | 277 KB    | #########2 |  92% \n",
      "conda-package-handli | 277 KB    | ########## | 100% \n",
      "\n",
      "plac-0.9.6           | 18 KB     |            |   0% \n",
      "plac-0.9.6           | 18 KB     | ######6    |  66% \n",
      "plac-0.9.6           | 18 KB     | ########## | 100% \n",
      "Preparing transaction: ...working... done\n",
      "Verifying transaction: ...working... done\n",
      "Executing transaction: ...working... done\n",
      "\n",
      "Note: you may need to restart the kernel to use updated packages.\n"
     ]
    }
   ],
   "source": [
    "conda install -c conda-forge spacy"
   ]
  },
  {
   "cell_type": "code",
   "execution_count": 6,
   "metadata": {},
   "outputs": [
    {
     "ename": "SyntaxError",
     "evalue": "invalid syntax (<ipython-input-6-fc4d5d118d23>, line 1)",
     "output_type": "error",
     "traceback": [
      "\u001b[1;36m  File \u001b[1;32m\"<ipython-input-6-fc4d5d118d23>\"\u001b[1;36m, line \u001b[1;32m1\u001b[0m\n\u001b[1;33m    python -m spacy download en\u001b[0m\n\u001b[1;37m                  ^\u001b[0m\n\u001b[1;31mSyntaxError\u001b[0m\u001b[1;31m:\u001b[0m invalid syntax\n"
     ]
    }
   ],
   "source": [
    "python -m spacy download en"
   ]
  },
  {
   "cell_type": "code",
   "execution_count": 7,
   "metadata": {},
   "outputs": [],
   "source": [
    "import spacy"
   ]
  },
  {
   "cell_type": "code",
   "execution_count": 8,
   "metadata": {
    "scrolled": true
   },
   "outputs": [
    {
     "ename": "OSError",
     "evalue": "[E050] Can't find model 'en_core_web_sm'. It doesn't seem to be a shortcut link, a Python package or a valid path to a data directory.",
     "output_type": "error",
     "traceback": [
      "\u001b[1;31m---------------------------------------------------------------------------\u001b[0m",
      "\u001b[1;31mOSError\u001b[0m                                   Traceback (most recent call last)",
      "\u001b[1;32m<ipython-input-8-11c18f7d8e9e>\u001b[0m in \u001b[0;36m<module>\u001b[1;34m\u001b[0m\n\u001b[1;32m----> 1\u001b[1;33m \u001b[0mnlp\u001b[0m \u001b[1;33m=\u001b[0m \u001b[0mspacy\u001b[0m\u001b[1;33m.\u001b[0m\u001b[0mload\u001b[0m\u001b[1;33m(\u001b[0m\u001b[1;34m'en_core_web_sm'\u001b[0m\u001b[1;33m)\u001b[0m\u001b[1;33m\u001b[0m\u001b[1;33m\u001b[0m\u001b[0m\n\u001b[0m",
      "\u001b[1;32m~\\Anaconda3\\lib\\site-packages\\spacy\\__init__.py\u001b[0m in \u001b[0;36mload\u001b[1;34m(name, **overrides)\u001b[0m\n\u001b[0;32m     25\u001b[0m     \u001b[1;32mif\u001b[0m \u001b[0mdepr_path\u001b[0m \u001b[1;32mnot\u001b[0m \u001b[1;32min\u001b[0m \u001b[1;33m(\u001b[0m\u001b[1;32mTrue\u001b[0m\u001b[1;33m,\u001b[0m \u001b[1;32mFalse\u001b[0m\u001b[1;33m,\u001b[0m \u001b[1;32mNone\u001b[0m\u001b[1;33m)\u001b[0m\u001b[1;33m:\u001b[0m\u001b[1;33m\u001b[0m\u001b[1;33m\u001b[0m\u001b[0m\n\u001b[0;32m     26\u001b[0m         \u001b[0mdeprecation_warning\u001b[0m\u001b[1;33m(\u001b[0m\u001b[0mWarnings\u001b[0m\u001b[1;33m.\u001b[0m\u001b[0mW001\u001b[0m\u001b[1;33m.\u001b[0m\u001b[0mformat\u001b[0m\u001b[1;33m(\u001b[0m\u001b[0mpath\u001b[0m\u001b[1;33m=\u001b[0m\u001b[0mdepr_path\u001b[0m\u001b[1;33m)\u001b[0m\u001b[1;33m)\u001b[0m\u001b[1;33m\u001b[0m\u001b[1;33m\u001b[0m\u001b[0m\n\u001b[1;32m---> 27\u001b[1;33m     \u001b[1;32mreturn\u001b[0m \u001b[0mutil\u001b[0m\u001b[1;33m.\u001b[0m\u001b[0mload_model\u001b[0m\u001b[1;33m(\u001b[0m\u001b[0mname\u001b[0m\u001b[1;33m,\u001b[0m \u001b[1;33m**\u001b[0m\u001b[0moverrides\u001b[0m\u001b[1;33m)\u001b[0m\u001b[1;33m\u001b[0m\u001b[1;33m\u001b[0m\u001b[0m\n\u001b[0m\u001b[0;32m     28\u001b[0m \u001b[1;33m\u001b[0m\u001b[0m\n\u001b[0;32m     29\u001b[0m \u001b[1;33m\u001b[0m\u001b[0m\n",
      "\u001b[1;32m~\\Anaconda3\\lib\\site-packages\\spacy\\util.py\u001b[0m in \u001b[0;36mload_model\u001b[1;34m(name, **overrides)\u001b[0m\n\u001b[0;32m    137\u001b[0m     \u001b[1;32melif\u001b[0m \u001b[0mhasattr\u001b[0m\u001b[1;33m(\u001b[0m\u001b[0mname\u001b[0m\u001b[1;33m,\u001b[0m \u001b[1;34m\"exists\"\u001b[0m\u001b[1;33m)\u001b[0m\u001b[1;33m:\u001b[0m  \u001b[1;31m# Path or Path-like to model data\u001b[0m\u001b[1;33m\u001b[0m\u001b[1;33m\u001b[0m\u001b[0m\n\u001b[0;32m    138\u001b[0m         \u001b[1;32mreturn\u001b[0m \u001b[0mload_model_from_path\u001b[0m\u001b[1;33m(\u001b[0m\u001b[0mname\u001b[0m\u001b[1;33m,\u001b[0m \u001b[1;33m**\u001b[0m\u001b[0moverrides\u001b[0m\u001b[1;33m)\u001b[0m\u001b[1;33m\u001b[0m\u001b[1;33m\u001b[0m\u001b[0m\n\u001b[1;32m--> 139\u001b[1;33m     \u001b[1;32mraise\u001b[0m \u001b[0mIOError\u001b[0m\u001b[1;33m(\u001b[0m\u001b[0mErrors\u001b[0m\u001b[1;33m.\u001b[0m\u001b[0mE050\u001b[0m\u001b[1;33m.\u001b[0m\u001b[0mformat\u001b[0m\u001b[1;33m(\u001b[0m\u001b[0mname\u001b[0m\u001b[1;33m=\u001b[0m\u001b[0mname\u001b[0m\u001b[1;33m)\u001b[0m\u001b[1;33m)\u001b[0m\u001b[1;33m\u001b[0m\u001b[1;33m\u001b[0m\u001b[0m\n\u001b[0m\u001b[0;32m    140\u001b[0m \u001b[1;33m\u001b[0m\u001b[0m\n\u001b[0;32m    141\u001b[0m \u001b[1;33m\u001b[0m\u001b[0m\n",
      "\u001b[1;31mOSError\u001b[0m: [E050] Can't find model 'en_core_web_sm'. It doesn't seem to be a shortcut link, a Python package or a valid path to a data directory."
     ]
    }
   ],
   "source": [
    "nlp = spacy.load('en_core_web_sm') "
   ]
  },
  {
   "cell_type": "code",
   "execution_count": null,
   "metadata": {},
   "outputs": [],
   "source": []
  }
 ],
 "metadata": {
  "kernelspec": {
   "display_name": "Python 3",
   "language": "python",
   "name": "python3"
  },
  "language_info": {
   "codemirror_mode": {
    "name": "ipython",
    "version": 3
   },
   "file_extension": ".py",
   "mimetype": "text/x-python",
   "name": "python",
   "nbconvert_exporter": "python",
   "pygments_lexer": "ipython3",
   "version": "3.7.3"
  }
 },
 "nbformat": 4,
 "nbformat_minor": 2
}
