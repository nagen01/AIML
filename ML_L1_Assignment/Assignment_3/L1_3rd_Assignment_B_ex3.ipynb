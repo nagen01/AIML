{
 "cells": [
  {
   "cell_type": "code",
   "execution_count": 34,
   "metadata": {},
   "outputs": [],
   "source": [
    "import pandas as pd\n",
    "import numpy as np\n",
    "import nltk\n",
    "import parser\n",
    "#import spacy\n",
    "#from spacy import displacy\n",
    "#nlp = spacy.load('en_core_web_sm')"
   ]
  },
  {
   "cell_type": "code",
   "execution_count": 35,
   "metadata": {},
   "outputs": [],
   "source": [
    "with open('NLPdataEx3&4-data_in.txt', 'r') as f:\n",
    "    data = f.read()"
   ]
  },
  {
   "cell_type": "code",
   "execution_count": 36,
   "metadata": {},
   "outputs": [
    {
     "data": {
      "text/plain": [
       "'Hello there, how are you? Weather is awesome. Its raining here now.\\nHello Mr. Raja, how are you? Weather is awesome. Its raining here now.\\nHello Mr. Raja, how are you. Weather is bad. Its heavily raining here now.\\nNLP is great technique. It is nice to learn this technique.\\nAI is making difference in this world now.  It would be helpful for betterment of human life. We need to make advantage of that.\\n'"
      ]
     },
     "execution_count": 36,
     "metadata": {},
     "output_type": "execute_result"
    }
   ],
   "source": [
    "data"
   ]
  },
  {
   "cell_type": "code",
   "execution_count": 45,
   "metadata": {},
   "outputs": [
    {
     "data": {
      "text/plain": [
       "['Hello there, how are you?',\n",
       " 'Weather is awesome.',\n",
       " 'Its raining here now.',\n",
       " 'Hello Mr. Raja, how are you?',\n",
       " 'Weather is awesome.',\n",
       " 'Its raining here now.',\n",
       " 'Hello Mr. Raja, how are you.',\n",
       " 'Weather is bad.',\n",
       " 'Its heavily raining here now.',\n",
       " 'NLP is great technique.',\n",
       " 'It is nice to learn this technique.',\n",
       " 'AI is making difference in this world now.',\n",
       " 'It would be helpful for betterment of human life.',\n",
       " 'We need to make advantage of that.']"
      ]
     },
     "execution_count": 45,
     "metadata": {},
     "output_type": "execute_result"
    }
   ],
   "source": [
    "sentences = [sentence for sentence in nltk.sent_tokenize(data)]\n",
    "sentences"
   ]
  },
  {
   "cell_type": "code",
   "execution_count": 51,
   "metadata": {},
   "outputs": [
    {
     "name": "stdout",
     "output_type": "stream",
     "text": [
      "[('Hello', 'NNP'), ('there', 'RB'), (',', ','), ('how', 'WRB'), ('are', 'VBP'), ('you', 'PRP'), ('?', '.')]\n",
      "[('Weather', 'NNP'), ('is', 'VBZ'), ('awesome', 'JJ'), ('.', '.')]\n",
      "[('Its', 'PRP$'), ('raining', 'VBG'), ('here', 'RB'), ('now', 'RB'), ('.', '.')]\n",
      "[('Hello', 'NNP'), ('Mr.', 'NNP'), ('Raja', 'NNP'), (',', ','), ('how', 'WRB'), ('are', 'VBP'), ('you', 'PRP'), ('?', '.')]\n",
      "[('Weather', 'NNP'), ('is', 'VBZ'), ('awesome', 'JJ'), ('.', '.')]\n",
      "[('Its', 'PRP$'), ('raining', 'VBG'), ('here', 'RB'), ('now', 'RB'), ('.', '.')]\n",
      "[('Hello', 'NNP'), ('Mr.', 'NNP'), ('Raja', 'NNP'), (',', ','), ('how', 'WRB'), ('are', 'VBP'), ('you', 'PRP'), ('.', '.')]\n",
      "[('Weather', 'NNP'), ('is', 'VBZ'), ('bad', 'JJ'), ('.', '.')]\n",
      "[('Its', 'PRP$'), ('heavily', 'RB'), ('raining', 'VBG'), ('here', 'RB'), ('now', 'RB'), ('.', '.')]\n",
      "[('NLP', 'NNP'), ('is', 'VBZ'), ('great', 'JJ'), ('technique', 'NN'), ('.', '.')]\n",
      "[('It', 'PRP'), ('is', 'VBZ'), ('nice', 'JJ'), ('to', 'TO'), ('learn', 'VB'), ('this', 'DT'), ('technique', 'NN'), ('.', '.')]\n",
      "[('AI', 'NNP'), ('is', 'VBZ'), ('making', 'VBG'), ('difference', 'NN'), ('in', 'IN'), ('this', 'DT'), ('world', 'NN'), ('now', 'RB'), ('.', '.')]\n",
      "[('It', 'PRP'), ('would', 'MD'), ('be', 'VB'), ('helpful', 'JJ'), ('for', 'IN'), ('betterment', 'NN'), ('of', 'IN'), ('human', 'JJ'), ('life', 'NN'), ('.', '.')]\n",
      "[('We', 'PRP'), ('need', 'VBP'), ('to', 'TO'), ('make', 'VB'), ('advantage', 'NN'), ('of', 'IN'), ('that', 'DT'), ('.', '.')]\n"
     ]
    }
   ],
   "source": [
    "for sentence in sentences:\n",
    "    tagged = nltk.pos_tag(nltk.word_tokenize(sentence))\n",
    "    print(tagged)\n",
    "    grammar = ('''\n",
    "        NP: {<DT>?<JJ>*<NN>} # NP\n",
    "    ''')\n",
    "    chunkParser = nltk.RegexpParser(grammar)\n",
    "    tree = chunkParser.parse(tagged)\n",
    "    tree.draw()"
   ]
  },
  {
   "cell_type": "code",
   "execution_count": null,
   "metadata": {},
   "outputs": [],
   "source": []
  }
 ],
 "metadata": {
  "kernelspec": {
   "display_name": "Python 3",
   "language": "python",
   "name": "python3"
  },
  "language_info": {
   "codemirror_mode": {
    "name": "ipython",
    "version": 3
   },
   "file_extension": ".py",
   "mimetype": "text/x-python",
   "name": "python",
   "nbconvert_exporter": "python",
   "pygments_lexer": "ipython3",
   "version": "3.7.3"
  }
 },
 "nbformat": 4,
 "nbformat_minor": 2
}
