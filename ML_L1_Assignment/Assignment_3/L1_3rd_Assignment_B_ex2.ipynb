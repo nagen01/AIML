{
 "cells": [
  {
   "cell_type": "code",
   "execution_count": 9,
   "metadata": {},
   "outputs": [],
   "source": [
    "import pandas as pd\n",
    "import numpy as np\n",
    "import nltk\n",
    "import re\n",
    "import csv"
   ]
  },
  {
   "cell_type": "code",
   "execution_count": 2,
   "metadata": {},
   "outputs": [],
   "source": [
    "data_in = pd.read_csv('Data_in.csv',sep=',')"
   ]
  },
  {
   "cell_type": "code",
   "execution_count": 3,
   "metadata": {},
   "outputs": [],
   "source": [
    "Comment_data = data_in['Comment']"
   ]
  },
  {
   "cell_type": "code",
   "execution_count": 16,
   "metadata": {},
   "outputs": [],
   "source": [
    "outfile = open('data_out.csv','a')\n",
    "for comment in Comment_data:\n",
    "    lines = nltk.sent_tokenize(comment)\n",
    "    for sentence in lines:\n",
    "        sentence = re.sub(r'\\\"+', '', sentence).ljust(1)\n",
    "        for word in nltk.word_tokenize(sentence):\n",
    "            #print(word)\n",
    "            writer = csv.writer(outfile)\n",
    "            writer.writerow([word])\n",
    "outfile.close()"
   ]
  },
  {
   "cell_type": "code",
   "execution_count": 15,
   "metadata": {},
   "outputs": [],
   "source": [
    "# Read out file again:\n",
    "out_df = pd.read_csv('data_out.csv',sep=',',names=['Word_list'])\n",
    "out_df_data = out_df['Word_list']\n",
    "#out_df_data"
   ]
  },
  {
   "cell_type": "code",
   "execution_count": 12,
   "metadata": {},
   "outputs": [],
   "source": [
    "\"\"\"\n",
    "import os\n",
    "if os.path.exists('data_out.csv'):\n",
    "    os.remove('data_out.csv')\n",
    "else:\n",
    "    print('File not found')\n",
    "\"\"\""
   ]
  },
  {
   "cell_type": "code",
   "execution_count": null,
   "metadata": {},
   "outputs": [],
   "source": []
  }
 ],
 "metadata": {
  "kernelspec": {
   "display_name": "Python 3",
   "language": "python",
   "name": "python3"
  },
  "language_info": {
   "codemirror_mode": {
    "name": "ipython",
    "version": 3
   },
   "file_extension": ".py",
   "mimetype": "text/x-python",
   "name": "python",
   "nbconvert_exporter": "python",
   "pygments_lexer": "ipython3",
   "version": "3.7.3"
  }
 },
 "nbformat": 4,
 "nbformat_minor": 2
}
