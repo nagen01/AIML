{
 "cells": [
  {
   "cell_type": "code",
   "execution_count": 53,
   "metadata": {},
   "outputs": [],
   "source": [
    "import pandas as pd\n",
    "import numpy as np\n",
    "import nltk"
   ]
  },
  {
   "cell_type": "code",
   "execution_count": 54,
   "metadata": {},
   "outputs": [],
   "source": [
    "neg_words=[\"hate\",\"hatred\",\"annoyed\",\"annoy\",\"annoyingly\",\"nasty\"]\n",
    "pos_words=[\"nice\",\"excellent\",\"good\",\"wonderful\",\"best\",\"better\",\"awesome\",\"beautiful\",\"beauty\",\"beautifully\",\"supreme\"]"
   ]
  },
  {
   "cell_type": "code",
   "execution_count": 55,
   "metadata": {},
   "outputs": [],
   "source": [
    "def word_weight(word, neg_words, pos_words):\n",
    "    if word in neg_words:\n",
    "        weight = -1\n",
    "    elif word in pos_words:\n",
    "        weight = +1\n",
    "    else:\n",
    "        weight = 0\n",
    "    \n",
    "    return weight"
   ]
  },
  {
   "cell_type": "code",
   "execution_count": 56,
   "metadata": {},
   "outputs": [],
   "source": [
    "data  = pd.read_csv('NLPdataEx5data_senti_analyze.txt', names = ['comment'])"
   ]
  },
  {
   "cell_type": "code",
   "execution_count": 57,
   "metadata": {},
   "outputs": [
    {
     "name": "stdout",
     "output_type": "stream",
     "text": [
      "Positive Comment: Rose is beautiful.\n",
      "Negative Comment: Place is nasty to stay.\n",
      "Positive Comment: This is the beauty of this technique.\n",
      "Positive Comment: Concept is explained beautifully in this book.\n",
      "Negative Comment: He annoyed me.\n",
      "Positive Comment: Its the supreme place to stay.\n",
      "Negative Comment: I hate this place.\n",
      "Negative Comment: Dont annoy the customer.\n",
      "Negative Comment: He has given nasty comments about his stay.\n",
      "Positive Comment: Dessert is awesome.\n",
      "Positive Comment: Your gift is wonderful.\n"
     ]
    }
   ],
   "source": [
    "for i in range(len(data)):\n",
    "    sent_weight = 0\n",
    "    for word in nltk.word_tokenize(data['comment'][i]):\n",
    "        sent_weight += word_weight(word, neg_words, pos_words)\n",
    "        \n",
    "    if sent_weight > 0:\n",
    "        print(f\"Positive Comment: {data['comment'][i]}\")\n",
    "    elif sent_weight < 0:\n",
    "        print(f\"Negative Comment: {data['comment'][i]}\")\n",
    "    else:\n",
    "        print(f\"Neutral Comment: {data['comment'][i]}\")"
   ]
  },
  {
   "cell_type": "code",
   "execution_count": null,
   "metadata": {},
   "outputs": [],
   "source": []
  }
 ],
 "metadata": {
  "kernelspec": {
   "display_name": "Python 3",
   "language": "python",
   "name": "python3"
  },
  "language_info": {
   "codemirror_mode": {
    "name": "ipython",
    "version": 3
   },
   "file_extension": ".py",
   "mimetype": "text/x-python",
   "name": "python",
   "nbconvert_exporter": "python",
   "pygments_lexer": "ipython3",
   "version": "3.7.3"
  }
 },
 "nbformat": 4,
 "nbformat_minor": 2
}
