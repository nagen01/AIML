{
 "cells": [
  {
   "cell_type": "code",
   "execution_count": 5,
   "metadata": {
    "colab": {},
    "colab_type": "code",
    "id": "xziUXX16wFqZ"
   },
   "outputs": [],
   "source": [
    "import numpy as np\n",
    "import math\n",
    "from scipy import stats\n",
    "from scipy.stats import pearsonr, ttest_ind\n",
    "from statsmodels.stats import weightstats as stests"
   ]
  },
  {
   "cell_type": "markdown",
   "metadata": {
    "colab_type": "text",
    "id": "0qN0j4LvxoEk"
   },
   "source": [
    "# 7th Part\n",
    "\n"
   ]
  },
  {
   "cell_type": "code",
   "execution_count": 6,
   "metadata": {
    "colab": {
     "base_uri": "https://localhost:8080/",
     "height": 34
    },
    "colab_type": "code",
    "id": "IIr0PcMDxz4I",
    "outputId": "60afdb8e-b05a-4a63-9612-cc6c65da0db7"
   },
   "outputs": [
    {
     "data": {
      "text/plain": [
       "0.0028327037741601173"
      ]
     },
     "execution_count": 6,
     "metadata": {},
     "output_type": "execute_result"
    }
   ],
   "source": [
    "x = 200\n",
    "mean = 177\n",
    "std = 10\n",
    "\n",
    "#By mathmatics \n",
    "def normpdf(x, mean, std):\n",
    "    var = float(std)**2\n",
    "    denom = (2*math.pi*var)**.5\n",
    "    num = math.exp(-(float(x)-float(mean))**2/(2*var))\n",
    "    return num/denom\n",
    "\n",
    "normpdf(x,mean,std)\n",
    "#ie. only 0.28% porbability exists that person is of 200 year old\n"
   ]
  },
  {
   "cell_type": "code",
   "execution_count": 7,
   "metadata": {
    "colab": {
     "base_uri": "https://localhost:8080/",
     "height": 34
    },
    "colab_type": "code",
    "id": "9hYBvCr6Lwv1",
    "outputId": "7cded5c8-6772-46dc-a98a-3a8001bc4715"
   },
   "outputs": [
    {
     "data": {
      "text/plain": [
       "0.002832703774160119"
      ]
     },
     "execution_count": 7,
     "metadata": {},
     "output_type": "execute_result"
    }
   ],
   "source": [
    "#Using scipy library\n",
    "stats.norm(177,10).pdf(200)"
   ]
  },
  {
   "cell_type": "markdown",
   "metadata": {
    "colab_type": "text",
    "id": "GFSc3ocQxupw"
   },
   "source": [
    "# 8th Part\n"
   ]
  },
  {
   "cell_type": "code",
   "execution_count": 8,
   "metadata": {
    "colab": {},
    "colab_type": "code",
    "id": "SA8dZAjAv8_h"
   },
   "outputs": [],
   "source": [
    "mpg = [21.0, 21.0, 22.8, 21.4, 18.7, 18.1, 14.3, 24.4, 22.8, 19.2, 17.8, 16.4, 17.3, 15.2, 10.4, 10.4, 14.7, 32.4, 30.4,\n",
    "       33.9, 21.5, 15.5, 15.2, 13.3, 19.2, 27.3, 26.0, 30.4, 15.8, 19.7, 15.0, 21.4]\n",
    "hp = [110, 110, 93, 110, 175, 105, 245, 62, 95, 123, 123, 180, 180, 180, 205, 215, 230, 66, 52, 65, 97, 150, 150, 245, 175, 66, 91, 113, 264, 175, 335, 109]"
   ]
  },
  {
   "cell_type": "code",
   "execution_count": 9,
   "metadata": {
    "colab": {
     "base_uri": "https://localhost:8080/",
     "height": 34
    },
    "colab_type": "code",
    "id": "cWAyQP83ws9J",
    "outputId": "c6d5c210-81f3-4d3e-ca6f-c15b4e22cfc5"
   },
   "outputs": [
    {
     "name": "stdout",
     "output_type": "stream",
     "text": [
      "Pearsons correlation: -0.776\n"
     ]
    }
   ],
   "source": [
    "corr, _ = pearsonr(mpg,hp)\n",
    "print('Pearsons correlation: %.3f' % corr)"
   ]
  },
  {
   "cell_type": "code",
   "execution_count": 10,
   "metadata": {
    "colab": {},
    "colab_type": "code",
    "id": "jejohLoVwzMa"
   },
   "outputs": [],
   "source": [
    "# As pearson correlation coefficient is negatively high (-0.776) hence these 2 variables are rarely correlated"
   ]
  },
  {
   "cell_type": "markdown",
   "metadata": {
    "colab_type": "text",
    "id": "ZrGfYOgTx31t"
   },
   "source": [
    "# 9th Part"
   ]
  },
  {
   "cell_type": "code",
   "execution_count": 11,
   "metadata": {
    "colab": {
     "base_uri": "https://localhost:8080/",
     "height": 85
    },
    "colab_type": "code",
    "id": "2iPHTp3zyHBi",
    "outputId": "33a9a8ff-e8a8-41f0-ed5e-1111cacc6cae"
   },
   "outputs": [
    {
     "name": "stdout",
     "output_type": "stream",
     "text": [
      "class1_score_mean:  45.7\n",
      "class2_score_mean:  71.1\n",
      "class1_score_std:  8.683893136145793\n",
      "class2_score_std:  10.931148155614762\n"
     ]
    }
   ],
   "source": [
    "#Perform T test:\n",
    "class1_score = np.array([45.0, 40.0, 49.0, 52.0, 54.0, 64.0, 36.0, 41.0, 42.0, 34.0])\n",
    "class2_score = np.array([75.0, 85.0, 53.0, 70.0, 72.0, 93.0, 61.0, 65.0, 65.0, 72.0])\n",
    "\n",
    "class1_score_mean = np.mean(class1_score)\n",
    "class2_score_mean = np.mean(class2_score)\n",
    "class1_score_std = np.std(class1_score)\n",
    "class2_score_std = np.std(class2_score)\n",
    "\n",
    "print('class1_score_mean: ',class1_score_mean)\n",
    "print('class2_score_mean: ',class2_score_mean)\n",
    "print('class1_score_std: ',class1_score_std)\n",
    "print('class2_score_std: ',class2_score_std)"
   ]
  },
  {
   "cell_type": "code",
   "execution_count": 12,
   "metadata": {
    "colab": {
     "base_uri": "https://localhost:8080/",
     "height": 51
    },
    "colab_type": "code",
    "id": "_Y64ZK3OyKHm",
    "outputId": "af29df2b-5121-4f30-8633-f7833da18b5d"
   },
   "outputs": [
    {
     "name": "stdout",
     "output_type": "stream",
     "text": [
      "p-value : 3.482072285015316e-05\n",
      "we reject null hypothesis\n"
     ]
    }
   ],
   "source": [
    "t_test,pval = ttest_ind(class1_score,class2_score)\n",
    "#print('t_test result:', t_test)\n",
    "print(\"p-value :\",pval)\n",
    "if pval <0.05:\n",
    "  print(\"we reject null hypothesis\")\n",
    "else:\n",
    "  print(\"we accept null hypothesis\")"
   ]
  },
  {
   "cell_type": "markdown",
   "metadata": {
    "colab_type": "text",
    "id": "OQlN4Su7zmQz"
   },
   "source": [
    "# 10th Part"
   ]
  },
  {
   "cell_type": "code",
   "execution_count": 13,
   "metadata": {
    "colab": {},
    "colab_type": "code",
    "id": "hI8IjwYQzpu_"
   },
   "outputs": [
    {
     "data": {
      "text/plain": [
       "-2.3333333333333335"
      ]
     },
     "execution_count": 13,
     "metadata": {},
     "output_type": "execute_result"
    }
   ],
   "source": [
    "mean_national = 60\n",
    "std = 3\n",
    "mean_class = 53\n",
    "\n",
    "z = (53 - 60)/3\n",
    "z\n",
    "#The null hypothesis is that the mean marks of the class are similar to the national average."
   ]
  },
  {
   "cell_type": "code",
   "execution_count": 14,
   "metadata": {
    "colab": {},
    "colab_type": "code",
    "id": "WpsyO9MF7TXh"
   },
   "outputs": [
    {
     "data": {
      "text/plain": [
       "0.009815328628645334"
      ]
     },
     "execution_count": 14,
     "metadata": {},
     "output_type": "execute_result"
    }
   ],
   "source": [
    "pval = stats.norm.cdf(z)\n",
    "pval\n",
    "#As we see value of z test is -ve ie. and hence p < 0.05, we can conclude our hypothesis went wrong"
   ]
  },
  {
   "cell_type": "code",
   "execution_count": null,
   "metadata": {},
   "outputs": [],
   "source": []
  }
 ],
 "metadata": {
  "colab": {
   "collapsed_sections": [],
   "name": "L1_1st_Assignment_7 to 10.ipynb",
   "provenance": []
  },
  "kernelspec": {
   "display_name": "Python 3",
   "language": "python",
   "name": "python3"
  },
  "language_info": {
   "codemirror_mode": {
    "name": "ipython",
    "version": 3
   },
   "file_extension": ".py",
   "mimetype": "text/x-python",
   "name": "python",
   "nbconvert_exporter": "python",
   "pygments_lexer": "ipython3",
   "version": "3.7.3"
  }
 },
 "nbformat": 4,
 "nbformat_minor": 1
}
