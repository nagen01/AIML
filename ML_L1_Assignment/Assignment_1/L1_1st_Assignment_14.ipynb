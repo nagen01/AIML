{
 "cells": [
  {
   "cell_type": "code",
   "execution_count": 14,
   "metadata": {
    "colab": {},
    "colab_type": "code",
    "id": "A0dbIMnzdLlE"
   },
   "outputs": [],
   "source": [
    "import pandas as pd\n",
    "import numpy as np\n",
    "import matplotlib.pyplot as plt\n",
    "from sklearn.cluster import KMeans\n",
    "%matplotlib inline"
   ]
  },
  {
   "cell_type": "code",
   "execution_count": 15,
   "metadata": {
    "colab": {},
    "colab_type": "code",
    "id": "qcItEqzrdRx8"
   },
   "outputs": [],
   "source": [
    "hotel = pd.read_csv('hotel.csv')"
   ]
  },
  {
   "cell_type": "code",
   "execution_count": 16,
   "metadata": {
    "colab": {
     "base_uri": "https://localhost:8080/",
     "height": 204
    },
    "colab_type": "code",
    "id": "d_GZTOgjfuI_",
    "outputId": "bdf4a4b2-55f9-4bea-d005-735e7da61ca1"
   },
   "outputs": [
    {
     "data": {
      "text/html": [
       "<div>\n",
       "<style scoped>\n",
       "    .dataframe tbody tr th:only-of-type {\n",
       "        vertical-align: middle;\n",
       "    }\n",
       "\n",
       "    .dataframe tbody tr th {\n",
       "        vertical-align: top;\n",
       "    }\n",
       "\n",
       "    .dataframe thead th {\n",
       "        text-align: right;\n",
       "    }\n",
       "</style>\n",
       "<table border=\"1\" class=\"dataframe\">\n",
       "  <thead>\n",
       "    <tr style=\"text-align: right;\">\n",
       "      <th></th>\n",
       "      <th>address</th>\n",
       "      <th>lat</th>\n",
       "      <th>lon</th>\n",
       "      <th>title</th>\n",
       "      <th>district</th>\n",
       "    </tr>\n",
       "  </thead>\n",
       "  <tbody>\n",
       "    <tr>\n",
       "      <th>0</th>\n",
       "      <td>No.30 Youya Road, Beitou District, Taipei 1124...</td>\n",
       "      <td>25.137793</td>\n",
       "      <td>121.51495</td>\n",
       "      <td>Grand View Resort Beitou</td>\n",
       "      <td>Beitou</td>\n",
       "    </tr>\n",
       "    <tr>\n",
       "      <th>1</th>\n",
       "      <td>No.28 Section 1, Minsheng East Road, Zhongshan...</td>\n",
       "      <td>25.057854</td>\n",
       "      <td>121.52409</td>\n",
       "      <td>YoMi Hotel</td>\n",
       "      <td>Zhongshan</td>\n",
       "    </tr>\n",
       "    <tr>\n",
       "      <th>2</th>\n",
       "      <td>No.3 Zhongshan Road, Beitou District, Taipei 1...</td>\n",
       "      <td>25.137163</td>\n",
       "      <td>121.50544</td>\n",
       "      <td>Beitou Hot Spring Resort (Tian Yue Quan)</td>\n",
       "      <td>Beitou</td>\n",
       "    </tr>\n",
       "    <tr>\n",
       "      <th>3</th>\n",
       "      <td>No.18 Songgao Road, Xinyi District, Taipei 110...</td>\n",
       "      <td>25.039248</td>\n",
       "      <td>121.56741</td>\n",
       "      <td>Humble House Taipei</td>\n",
       "      <td>Xinyi</td>\n",
       "    </tr>\n",
       "    <tr>\n",
       "      <th>4</th>\n",
       "      <td>4F., No.11, Sec. 2, Nanjing E. Road, Taipei 10...</td>\n",
       "      <td>25.052057</td>\n",
       "      <td>121.52831</td>\n",
       "      <td>Taipei Morning Hotel</td>\n",
       "      <td>Zhongshan</td>\n",
       "    </tr>\n",
       "  </tbody>\n",
       "</table>\n",
       "</div>"
      ],
      "text/plain": [
       "                                             address        lat        lon  \\\n",
       "0  No.30 Youya Road, Beitou District, Taipei 1124...  25.137793  121.51495   \n",
       "1  No.28 Section 1, Minsheng East Road, Zhongshan...  25.057854  121.52409   \n",
       "2  No.3 Zhongshan Road, Beitou District, Taipei 1...  25.137163  121.50544   \n",
       "3  No.18 Songgao Road, Xinyi District, Taipei 110...  25.039248  121.56741   \n",
       "4  4F., No.11, Sec. 2, Nanjing E. Road, Taipei 10...  25.052057  121.52831   \n",
       "\n",
       "                                      title   district  \n",
       "0                  Grand View Resort Beitou     Beitou  \n",
       "1                                YoMi Hotel  Zhongshan  \n",
       "2  Beitou Hot Spring Resort (Tian Yue Quan)     Beitou  \n",
       "3                       Humble House Taipei      Xinyi  \n",
       "4                      Taipei Morning Hotel  Zhongshan  "
      ]
     },
     "execution_count": 16,
     "metadata": {},
     "output_type": "execute_result"
    }
   ],
   "source": [
    "hotel.head()"
   ]
  },
  {
   "cell_type": "code",
   "execution_count": 17,
   "metadata": {
    "colab": {
     "base_uri": "https://localhost:8080/",
     "height": 34
    },
    "colab_type": "code",
    "id": "jhPeHzU9fxMK",
    "outputId": "72dc9fa5-6a75-4575-8e40-2e51db84dce8"
   },
   "outputs": [
    {
     "data": {
      "text/plain": [
       "(102, 5)"
      ]
     },
     "execution_count": 17,
     "metadata": {},
     "output_type": "execute_result"
    }
   ],
   "source": [
    "hotel.shape"
   ]
  },
  {
   "cell_type": "code",
   "execution_count": 18,
   "metadata": {
    "colab": {
     "base_uri": "https://localhost:8080/",
     "height": 119
    },
    "colab_type": "code",
    "id": "LCWLFzT2f-0S",
    "outputId": "f44b5f91-0597-40d5-e665-b81bc01120d3"
   },
   "outputs": [
    {
     "data": {
      "text/plain": [
       "address     0\n",
       "lat         0\n",
       "lon         0\n",
       "title       0\n",
       "district    0\n",
       "dtype: int64"
      ]
     },
     "execution_count": 18,
     "metadata": {},
     "output_type": "execute_result"
    }
   ],
   "source": [
    "hotel.isnull().sum()"
   ]
  },
  {
   "cell_type": "code",
   "execution_count": 19,
   "metadata": {
    "colab": {},
    "colab_type": "code",
    "id": "JYVz6dVkgc7s"
   },
   "outputs": [],
   "source": [
    "X = hotel.iloc[:,1:-2].values\n",
    "y = hotel.iloc[:,-1:].values"
   ]
  },
  {
   "cell_type": "code",
   "execution_count": 20,
   "metadata": {
    "colab": {},
    "colab_type": "code",
    "id": "wH-yF8R7g2UO"
   },
   "outputs": [],
   "source": [
    "kmeans = KMeans(n_clusters=3)"
   ]
  },
  {
   "cell_type": "code",
   "execution_count": 21,
   "metadata": {
    "colab": {
     "base_uri": "https://localhost:8080/",
     "height": 68
    },
    "colab_type": "code",
    "id": "z9RpWpkbg3dN",
    "outputId": "16fd0f06-d7ea-4345-f1cd-f3a85582863f"
   },
   "outputs": [
    {
     "data": {
      "text/plain": [
       "KMeans(algorithm='auto', copy_x=True, init='k-means++', max_iter=300,\n",
       "    n_clusters=3, n_init=10, n_jobs=None, precompute_distances='auto',\n",
       "    random_state=None, tol=0.0001, verbose=0)"
      ]
     },
     "execution_count": 21,
     "metadata": {},
     "output_type": "execute_result"
    }
   ],
   "source": [
    "kmeans.fit(X)"
   ]
  },
  {
   "cell_type": "code",
   "execution_count": 22,
   "metadata": {},
   "outputs": [],
   "source": [
    "y_kmeans = kmean.predict(X)"
   ]
  },
  {
   "cell_type": "code",
   "execution_count": 23,
   "metadata": {
    "colab": {},
    "colab_type": "code",
    "id": "iCNnfGubjNcq"
   },
   "outputs": [
    {
     "data": {
      "image/png": "[encoded data removed]",
      "text/plain": [
       "<Figure size 432x288 with 1 Axes>"
      ]
     },
     "metadata": {
      "needs_background": "light"
     },
     "output_type": "display_data"
    }
   ],
   "source": [
    "plt.scatter(X[:, 0], X[:, 1], c=y_kmeans, s=50, cmap='viridis')\n",
    "\n",
    "centers = kmeans.cluster_centers_\n",
    "plt.scatter(centers[:, 0], centers[:, 1], c='black', s=200, alpha=0.5);"
   ]
  },
  {
   "cell_type": "code",
   "execution_count": null,
   "metadata": {},
   "outputs": [],
   "source": []
  }
 ],
 "metadata": {
  "colab": {
   "collapsed_sections": [],
   "name": "L1_1st_Assignment_14.ipynb",
   "provenance": []
  },
  "kernelspec": {
   "display_name": "Python 3",
   "language": "python",
   "name": "python3"
  },
  "language_info": {
   "codemirror_mode": {
    "name": "ipython",
    "version": 3
   },
   "file_extension": ".py",
   "mimetype": "text/x-python",
   "name": "python",
   "nbconvert_exporter": "python",
   "pygments_lexer": "ipython3",
   "version": "3.7.3"
  }
 },
 "nbformat": 4,
 "nbformat_minor": 1
}
