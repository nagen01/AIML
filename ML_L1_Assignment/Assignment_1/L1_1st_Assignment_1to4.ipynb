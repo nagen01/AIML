{
 "cells": [
  {
   "cell_type": "code",
   "execution_count": 50,
   "metadata": {
    "colab": {},
    "colab_type": "code",
    "id": "74BxD6W18hhq"
   },
   "outputs": [],
   "source": [
    "import pandas as pd\n",
    "import numpy as np\n",
    "import matplotlib.pyplot as plt\n",
    "import seaborn as sns"
   ]
  },
  {
   "cell_type": "code",
   "execution_count": 51,
   "metadata": {
    "colab": {},
    "colab_type": "code",
    "id": "YKIovefJ8zss"
   },
   "outputs": [],
   "source": [
    "titanic = pd.read_csv('titanic data.csv')"
   ]
  },
  {
   "cell_type": "code",
   "execution_count": 52,
   "metadata": {
    "colab": {
     "base_uri": "https://localhost:8080/",
     "height": 204
    },
    "colab_type": "code",
    "id": "kbqCDpn083uV",
    "outputId": "9bb37c9b-7d26-4fcc-ed5c-240ed42f7cfa"
   },
   "outputs": [
    {
     "data": {
      "text/html": [
       "<div>\n",
       "<style scoped>\n",
       "    .dataframe tbody tr th:only-of-type {\n",
       "        vertical-align: middle;\n",
       "    }\n",
       "\n",
       "    .dataframe tbody tr th {\n",
       "        vertical-align: top;\n",
       "    }\n",
       "\n",
       "    .dataframe thead th {\n",
       "        text-align: right;\n",
       "    }\n",
       "</style>\n",
       "<table border=\"1\" class=\"dataframe\">\n",
       "  <thead>\n",
       "    <tr style=\"text-align: right;\">\n",
       "      <th></th>\n",
       "      <th>PassengerId</th>\n",
       "      <th>Survived</th>\n",
       "      <th>Pclass</th>\n",
       "      <th>Name</th>\n",
       "      <th>Sex</th>\n",
       "      <th>Age</th>\n",
       "      <th>SibSp</th>\n",
       "      <th>Parch</th>\n",
       "      <th>Ticket</th>\n",
       "      <th>Fare</th>\n",
       "      <th>Cabin</th>\n",
       "      <th>Embarked</th>\n",
       "    </tr>\n",
       "  </thead>\n",
       "  <tbody>\n",
       "    <tr>\n",
       "      <th>0</th>\n",
       "      <td>1</td>\n",
       "      <td>0</td>\n",
       "      <td>3</td>\n",
       "      <td>Braund, Mr. Owen Harris</td>\n",
       "      <td>male</td>\n",
       "      <td>22.0</td>\n",
       "      <td>1</td>\n",
       "      <td>0</td>\n",
       "      <td>A/5 21171</td>\n",
       "      <td>7.2500</td>\n",
       "      <td>NaN</td>\n",
       "      <td>S</td>\n",
       "    </tr>\n",
       "    <tr>\n",
       "      <th>1</th>\n",
       "      <td>2</td>\n",
       "      <td>1</td>\n",
       "      <td>1</td>\n",
       "      <td>Cumings, Mrs. John Bradley (Florence Briggs Th...</td>\n",
       "      <td>female</td>\n",
       "      <td>38.0</td>\n",
       "      <td>1</td>\n",
       "      <td>0</td>\n",
       "      <td>PC 17599</td>\n",
       "      <td>71.2833</td>\n",
       "      <td>C85</td>\n",
       "      <td>C</td>\n",
       "    </tr>\n",
       "    <tr>\n",
       "      <th>2</th>\n",
       "      <td>3</td>\n",
       "      <td>1</td>\n",
       "      <td>3</td>\n",
       "      <td>Heikkinen, Miss. Laina</td>\n",
       "      <td>female</td>\n",
       "      <td>26.0</td>\n",
       "      <td>0</td>\n",
       "      <td>0</td>\n",
       "      <td>STON/O2. 3101282</td>\n",
       "      <td>7.9250</td>\n",
       "      <td>NaN</td>\n",
       "      <td>S</td>\n",
       "    </tr>\n",
       "    <tr>\n",
       "      <th>3</th>\n",
       "      <td>4</td>\n",
       "      <td>1</td>\n",
       "      <td>1</td>\n",
       "      <td>Futrelle, Mrs. Jacques Heath (Lily May Peel)</td>\n",
       "      <td>female</td>\n",
       "      <td>35.0</td>\n",
       "      <td>1</td>\n",
       "      <td>0</td>\n",
       "      <td>113803</td>\n",
       "      <td>53.1000</td>\n",
       "      <td>C123</td>\n",
       "      <td>S</td>\n",
       "    </tr>\n",
       "    <tr>\n",
       "      <th>4</th>\n",
       "      <td>5</td>\n",
       "      <td>0</td>\n",
       "      <td>3</td>\n",
       "      <td>Allen, Mr. William Henry</td>\n",
       "      <td>male</td>\n",
       "      <td>35.0</td>\n",
       "      <td>0</td>\n",
       "      <td>0</td>\n",
       "      <td>373450</td>\n",
       "      <td>8.0500</td>\n",
       "      <td>NaN</td>\n",
       "      <td>S</td>\n",
       "    </tr>\n",
       "  </tbody>\n",
       "</table>\n",
       "</div>"
      ],
      "text/plain": [
       "   PassengerId  Survived  Pclass  \\\n",
       "0            1         0       3   \n",
       "1            2         1       1   \n",
       "2            3         1       3   \n",
       "3            4         1       1   \n",
       "4            5         0       3   \n",
       "\n",
       "                                                Name     Sex   Age  SibSp  \\\n",
       "0                            Braund, Mr. Owen Harris    male  22.0      1   \n",
       "1  Cumings, Mrs. John Bradley (Florence Briggs Th...  female  38.0      1   \n",
       "2                             Heikkinen, Miss. Laina  female  26.0      0   \n",
       "3       Futrelle, Mrs. Jacques Heath (Lily May Peel)  female  35.0      1   \n",
       "4                           Allen, Mr. William Henry    male  35.0      0   \n",
       "\n",
       "   Parch            Ticket     Fare Cabin Embarked  \n",
       "0      0         A/5 21171   7.2500   NaN        S  \n",
       "1      0          PC 17599  71.2833   C85        C  \n",
       "2      0  STON/O2. 3101282   7.9250   NaN        S  \n",
       "3      0            113803  53.1000  C123        S  \n",
       "4      0            373450   8.0500   NaN        S  "
      ]
     },
     "execution_count": 52,
     "metadata": {},
     "output_type": "execute_result"
    }
   ],
   "source": [
    "titanic.head()"
   ]
  },
  {
   "cell_type": "code",
   "execution_count": 53,
   "metadata": {
    "colab": {
     "base_uri": "https://localhost:8080/",
     "height": 34
    },
    "colab_type": "code",
    "id": "AEmJMYVknwpb",
    "outputId": "ff5003b6-0990-45fa-9282-bbe135cc9531"
   },
   "outputs": [
    {
     "data": {
      "text/plain": [
       "177"
      ]
     },
     "execution_count": 53,
     "metadata": {},
     "output_type": "execute_result"
    }
   ],
   "source": [
    "#Find missing value in age column:\n",
    "titanic['Age'].isnull().sum()"
   ]
  },
  {
   "cell_type": "code",
   "execution_count": 54,
   "metadata": {
    "colab": {
     "base_uri": "https://localhost:8080/",
     "height": 238
    },
    "colab_type": "code",
    "id": "bSbFld-D9IFm",
    "outputId": "8d63ea1b-c6d9-4b49-d260-5f4121656b41"
   },
   "outputs": [
    {
     "data": {
      "text/plain": [
       "PassengerId      0\n",
       "Survived         0\n",
       "Pclass           0\n",
       "Name             0\n",
       "Sex              0\n",
       "Age            177\n",
       "SibSp            0\n",
       "Parch            0\n",
       "Ticket           0\n",
       "Fare             0\n",
       "Cabin          687\n",
       "Embarked         2\n",
       "dtype: int64"
      ]
     },
     "execution_count": 54,
     "metadata": {},
     "output_type": "execute_result"
    }
   ],
   "source": [
    "#Finding missing value in each column\n",
    "titanic.isnull().sum()"
   ]
  },
  {
   "cell_type": "code",
   "execution_count": 55,
   "metadata": {
    "colab": {},
    "colab_type": "code",
    "id": "Cm0i564BCTvo"
   },
   "outputs": [],
   "source": [
    "#Remove Cabin column\n",
    "titanic = titanic.drop(columns = ['Cabin'])"
   ]
  },
  {
   "cell_type": "code",
   "execution_count": 56,
   "metadata": {
    "colab": {
     "base_uri": "https://localhost:8080/",
     "height": 221
    },
    "colab_type": "code",
    "id": "BLYHvBCGDa-P",
    "outputId": "d7b97985-d20e-486a-aad9-e5ee8dddb99d"
   },
   "outputs": [
    {
     "data": {
      "text/plain": [
       "PassengerId      0\n",
       "Survived         0\n",
       "Pclass           0\n",
       "Name             0\n",
       "Sex              0\n",
       "Age            177\n",
       "SibSp            0\n",
       "Parch            0\n",
       "Ticket           0\n",
       "Fare             0\n",
       "Embarked         2\n",
       "dtype: int64"
      ]
     },
     "execution_count": 56,
     "metadata": {},
     "output_type": "execute_result"
    }
   ],
   "source": [
    "titanic.isnull().sum()"
   ]
  },
  {
   "cell_type": "code",
   "execution_count": 57,
   "metadata": {
    "colab": {},
    "colab_type": "code",
    "id": "Pj5lhJ0C9TpV"
   },
   "outputs": [],
   "source": [
    "#placing missing value with mean\n",
    "titanic.fillna(titanic.mean(), inplace=True)"
   ]
  },
  {
   "cell_type": "code",
   "execution_count": 58,
   "metadata": {
    "colab": {
     "base_uri": "https://localhost:8080/",
     "height": 221
    },
    "colab_type": "code",
    "id": "n68rBx_ae3El",
    "outputId": "81b3578b-e2ce-467d-d8c2-2f1f88326c9f"
   },
   "outputs": [
    {
     "data": {
      "text/plain": [
       "PassengerId    0\n",
       "Survived       0\n",
       "Pclass         0\n",
       "Name           0\n",
       "Sex            0\n",
       "Age            0\n",
       "SibSp          0\n",
       "Parch          0\n",
       "Ticket         0\n",
       "Fare           0\n",
       "Embarked       2\n",
       "dtype: int64"
      ]
     },
     "execution_count": 58,
     "metadata": {},
     "output_type": "execute_result"
    }
   ],
   "source": [
    "titanic.isnull().sum()"
   ]
  },
  {
   "cell_type": "code",
   "execution_count": 59,
   "metadata": {
    "colab": {},
    "colab_type": "code",
    "id": "5LEzrKNVfRz7"
   },
   "outputs": [],
   "source": [
    "td = titanic.values"
   ]
  },
  {
   "cell_type": "code",
   "execution_count": 60,
   "metadata": {
    "colab": {
     "base_uri": "https://localhost:8080/",
     "height": 34
    },
    "colab_type": "code",
    "id": "1jVo-5mRk2jl",
    "outputId": "b6d10fc3-b849-4b07-86c9-b69dc3a64a22"
   },
   "outputs": [
    {
     "data": {
      "text/plain": [
       "891"
      ]
     },
     "execution_count": 60,
     "metadata": {},
     "output_type": "execute_result"
    }
   ],
   "source": [
    "len(titanic)"
   ]
  },
  {
   "cell_type": "code",
   "execution_count": 61,
   "metadata": {},
   "outputs": [
    {
     "data": {
      "text/plain": [
       "0"
      ]
     },
     "execution_count": 61,
     "metadata": {},
     "output_type": "execute_result"
    }
   ],
   "source": [
    "#Replacing missing Emvarked with most frequent value of value of Embarked\n",
    "from sklearn.impute import SimpleImputer\n",
    "imputer = SimpleImputer(missing_values = np.nan, strategy = 'most_frequent')\n",
    "imputer = imputer.fit(td[:,:-1])\n",
    "td[:,:-1] = imputer.transform(td[:,:-1])\n",
    "# Cross Checking for null value in Embarked column\n",
    "pd.isnull(td[:,:-1]).sum()"
   ]
  },
  {
   "cell_type": "code",
   "execution_count": 62,
   "metadata": {
    "colab": {},
    "colab_type": "code",
    "id": "7A3N7AuF9hjG"
   },
   "outputs": [],
   "source": [
    "#Part-4: Visualization\n",
    "def plot_bar_x(label, val, xl, yl, t):\n",
    "    # this is for plotting purpose\n",
    "    index = np.arange(len(label))\n",
    "    plt.bar(index, val)\n",
    "    plt.xlabel(xl, fontsize=15)\n",
    "    plt.ylabel(yl, fontsize=15)\n",
    "    plt.xticks(index, label, fontsize=15, rotation=30)\n",
    "    plt.title(t, fontsize=17)\n",
    "    plt.show()"
   ]
  },
  {
   "cell_type": "code",
   "execution_count": 63,
   "metadata": {
    "colab": {
     "base_uri": "https://localhost:8080/",
     "height": 340
    },
    "colab_type": "code",
    "id": "9xVgnL0rh-x0",
    "outputId": "fffd0d78-28b6-435b-bd20-71afb9116912"
   },
   "outputs": [
    {
     "data": {
      "image/png": "[encoded data removed]",
      "text/plain": [
       "<Figure size 432x288 with 1 Axes>"
      ]
     },
     "metadata": {
      "needs_background": "light"
     },
     "output_type": "display_data"
    }
   ],
   "source": [
    "# 4(a) : Number of passangers survived or not\n",
    "survive = 0\n",
    "died = 0\n",
    "for i in range(len(titanic)): \n",
    "  if titanic['Survived'][i] == 1:\n",
    "    survive += 1\n",
    "  else:\n",
    "    died += 1\n",
    "\n",
    "label = ['Survived','Died']\n",
    "val = [survive, died]\n",
    "\n",
    "xl = 'Survived/Died'\n",
    "yl = 'No of Passangers'\n",
    "t = 'Number of passangers survived or not'\n",
    "\n",
    "plot_bar_x(label, val, xl, yl, t)"
   ]
  },
  {
   "cell_type": "code",
   "execution_count": 64,
   "metadata": {
    "colab": {
     "base_uri": "https://localhost:8080/",
     "height": 335
    },
    "colab_type": "code",
    "id": "P9IFHkeekk3W",
    "outputId": "5881f1d6-8fa5-4090-d460-bd8fc3e4bf4a"
   },
   "outputs": [
    {
     "data": {
      "image/png": "[encoded data removed]",
      "text/plain": [
       "<Figure size 432x288 with 1 Axes>"
      ]
     },
     "metadata": {
      "needs_background": "light"
     },
     "output_type": "display_data"
    }
   ],
   "source": [
    "# 4(b) : Number of passangers traveled by class 1, class 2 and class 3 \n",
    "class_1 = 0\n",
    "class_2 = 0\n",
    "class_3 = 0\n",
    "for i in range(len(titanic)): \n",
    "  if titanic['Pclass'][i] == 1:\n",
    "    class_1 += 1\n",
    "  elif titanic['Pclass'][i] ==2:\n",
    "    class_2 += 1\n",
    "  elif titanic['Pclass'][i] ==3:\n",
    "    class_3 += 1\n",
    "\n",
    "label = ['Class-1','Class-2','Class-3']\n",
    "val = [class_1,class_2,class_3]\n",
    "\n",
    "xl = 'Passenger Class'\n",
    "yl = 'No of Passangers'\n",
    "t = 'No of passangers traveled by different classes'\n",
    "\n",
    "plot_bar_x(label, val, xl, yl, t)"
   ]
  },
  {
   "cell_type": "code",
   "execution_count": 65,
   "metadata": {
    "colab": {
     "base_uri": "https://localhost:8080/",
     "height": 335
    },
    "colab_type": "code",
    "id": "VsEc6O_Rna3r",
    "outputId": "92c25fc7-eeea-4675-fd53-c71d2fa4fa58"
   },
   "outputs": [
    {
     "data": {
      "image/png": "[encoded data removed]",
      "text/plain": [
       "<Figure size 432x288 with 1 Axes>"
      ]
     },
     "metadata": {
      "needs_background": "light"
     },
     "output_type": "display_data"
    }
   ],
   "source": [
    "# 4(c) : Number of Male and Female passangers\n",
    "male_count = 0\n",
    "female_count = 0\n",
    "for i in range(len(titanic)): \n",
    "  if titanic['Sex'][i] == 'male':\n",
    "    male_count += 1\n",
    "  elif titanic['Sex'][i] == 'female':\n",
    "    female_count += 1\n",
    "\n",
    "label = ['Male','Female']\n",
    "val = [male_count, female_count]\n",
    "\n",
    "xl = 'Male/Female'\n",
    "yl = 'No of Passangers'\n",
    "t = 'Number of Male and Female passangers'\n",
    "\n",
    "plot_bar_x(label, val, xl, yl, t)"
   ]
  },
  {
   "cell_type": "code",
   "execution_count": 66,
   "metadata": {
    "colab": {
     "base_uri": "https://localhost:8080/",
     "height": 34
    },
    "colab_type": "code",
    "id": "u0WntD2Evubc",
    "outputId": "10927509-d43a-49e0-de4b-bf4dd88da430"
   },
   "outputs": [
    {
     "data": {
      "text/plain": [
       "\"\\nlab = ['Male','Female']\\nv = titanic['Sex'].values\\nw=0.5\\nplt.bar(lab,v,w)\\n\""
      ]
     },
     "execution_count": 66,
     "metadata": {},
     "output_type": "execute_result"
    }
   ],
   "source": [
    "\"\"\"\n",
    "lab = ['Male','Female']\n",
    "v = titanic['Sex'].values\n",
    "w=0.5\n",
    "plt.bar(lab,v,w)\n",
    "\"\"\"\n"
   ]
  },
  {
   "cell_type": "code",
   "execution_count": 67,
   "metadata": {
    "colab": {
     "base_uri": "https://localhost:8080/",
     "height": 283
    },
    "colab_type": "code",
    "id": "AjhrPxWrqY4L",
    "outputId": "3cfa231a-c6dd-4c9a-9354-e45a0cf01c71"
   },
   "outputs": [
    {
     "data": {
      "image/png": "[encoded data removed]",
      "text/plain": [
       "<Figure size 432x288 with 1 Axes>"
      ]
     },
     "metadata": {
      "needs_background": "light"
     },
     "output_type": "display_data"
    }
   ],
   "source": [
    "# 4(d) : Histogram for difference ages\n",
    "X = titanic['Age'].values\n",
    "plt.hist(X, bins=10)\n",
    "plt.xlabel('Age range')\n",
    "plt.ylabel('No of passangers with different age group')\n",
    "plt.show()"
   ]
  },
  {
   "cell_type": "code",
   "execution_count": 68,
   "metadata": {
    "colab": {
     "base_uri": "https://localhost:8080/",
     "height": 316
    },
    "colab_type": "code",
    "id": "DaAkd1MQ00RK",
    "outputId": "678e28df-6c17-4d85-a02d-45f780d36ce1"
   },
   "outputs": [
    {
     "data": {
      "image/png": "[encoded data removed]",
      "text/plain": [
       "<Figure size 432x288 with 1 Axes>"
      ]
     },
     "metadata": {
      "needs_background": "light"
     },
     "output_type": "display_data"
    }
   ],
   "source": [
    "# 4(e-1) Stacked bar plot for Survival wise male and female\n",
    "survived = 0\n",
    "died = 0\n",
    "survived_M = 0\n",
    "died_M = 0\n",
    "\n",
    "\n",
    "for i in range(len(titanic)): \n",
    "  if titanic['Survived'][i] == 1:\n",
    "    survived += 1\n",
    "    if titanic['Sex'][i] == 'male':      \n",
    "      survived_M += 1\n",
    "  elif titanic['Survived'][i] == 0:\n",
    "    died += 1\n",
    "    if titanic['Sex'][i] == 'male':      \n",
    "      died_M += 1\n",
    "      \n",
    "\n",
    "survived_F = survived - survived_M\n",
    "died_F = died - died_M   \n",
    "stack_label = ['Survived','Died']\n",
    "stack_val_male = [survived_M, died_M]\n",
    "stack_val_female = [survived_F, died_F]\n",
    "width = 0.5\n",
    "stack_index = np.arange(len(stack_label))\n",
    "\n",
    "p1 = plt.bar(stack_label, stack_val_male, width)\n",
    "p2 = plt.bar(stack_label, stack_val_female, width,bottom=stack_val_male)\n",
    "plt.title('Survival wise Male and female')\n",
    "plt.xlabel('Survived or Not')\n",
    "plt.ylabel('No of Male and Female')\n",
    "plt.xticks(stack_index,stack_label,rotation=30)\n",
    "plt.show()"
   ]
  },
  {
   "cell_type": "code",
   "execution_count": 69,
   "metadata": {
    "colab": {
     "base_uri": "https://localhost:8080/",
     "height": 312
    },
    "colab_type": "code",
    "id": "EXg3mfiisftp",
    "outputId": "6f7004b7-6a01-4852-b292-28d82544e0ec"
   },
   "outputs": [
    {
     "data": {
      "image/png": "[encoded data removed]",
      "text/plain": [
       "<Figure size 432x288 with 1 Axes>"
      ]
     },
     "metadata": {
      "needs_background": "light"
     },
     "output_type": "display_data"
    }
   ],
   "source": [
    "# 4(e-2) Stacked bar plot for Class wise passenger survival\n",
    "class_1 = 0\n",
    "class_2 = 0\n",
    "class_3 = 0\n",
    "class_1_S = 0\n",
    "class_2_S = 0\n",
    "class_3_S = 0\n",
    "\n",
    "for i in range(len(titanic)): \n",
    "  if titanic['Pclass'][i] == 1:\n",
    "    class_1 += 1\n",
    "    if titanic['Survived'][i] == 1:      \n",
    "      class_1_S += 1\n",
    "  elif titanic['Pclass'][i] ==2:\n",
    "    class_2 += 1\n",
    "    if titanic['Survived'][i] == 1:      \n",
    "      class_2_S += 1\n",
    "  elif titanic['Pclass'][i] ==3:\n",
    "    class_3 += 1\n",
    "    if titanic['Survived'][i] == 1:      \n",
    "      class_3_S += 1\n",
    "      \n",
    "\n",
    "class_1_D = class_1 - class_1_S\n",
    "class_2_D = class_2 - class_2_S\n",
    "class_3_D = class_3 - class_3_S     \n",
    "stack_label = ['Class-1','Class-2','Class-3']\n",
    "stack_val_Survived = [class_1_S, class_2_S, class_3_S]\n",
    "stack_val_Died = [class_1_D, class_2_D, class_3_D]\n",
    "width = 0.5\n",
    "stack_index = np.arange(len(stack_label))\n",
    "\n",
    "p1 = plt.bar(stack_label, stack_val_Survived, width)\n",
    "p2 = plt.bar(stack_label, stack_val_Died, width,bottom=stack_val_Survived)\n",
    "plt.title('Class wise Survival')\n",
    "plt.xlabel('Classes')\n",
    "plt.ylabel('No of Survived and Died')\n",
    "plt.xticks(stack_index,stack_label,rotation=30)\n",
    "#plt.yticks()\n",
    "plt.show()"
   ]
  },
  {
   "cell_type": "code",
   "execution_count": 70,
   "metadata": {
    "colab": {
     "base_uri": "https://localhost:8080/",
     "height": 283
    },
    "colab_type": "code",
    "id": "FN4cLYjJlvvc",
    "outputId": "ffbb7c5f-c2d0-49b2-d405-c7bbf3815a7d"
   },
   "outputs": [
    {
     "data": {
      "image/png": "[encoded data removed]",
      "text/plain": [
       "<Figure size 432x288 with 1 Axes>"
      ]
     },
     "metadata": {
      "needs_background": "light"
     },
     "output_type": "display_data"
    }
   ],
   "source": [
    "# 4(f)Box plot Age wise survival\n",
    "tips = sns.load_dataset(\"tips\")\n",
    "ax = sns.boxplot(x=titanic['Survived'], y=titanic['Age'], data=tips)"
   ]
  },
  {
   "cell_type": "code",
   "execution_count": null,
   "metadata": {
    "colab": {},
    "colab_type": "code",
    "id": "nCem7wK2KXoP"
   },
   "outputs": [],
   "source": []
  }
 ],
 "metadata": {
  "colab": {
   "collapsed_sections": [],
   "name": "L1_1st_Assignment_1to4.ipynb",
   "provenance": []
  },
  "kernelspec": {
   "display_name": "Python 3",
   "language": "python",
   "name": "python3"
  },
  "language_info": {
   "codemirror_mode": {
    "name": "ipython",
    "version": 3
   },
   "file_extension": ".py",
   "mimetype": "text/x-python",
   "name": "python",
   "nbconvert_exporter": "python",
   "pygments_lexer": "ipython3",
   "version": "3.7.3"
  }
 },
 "nbformat": 4,
 "nbformat_minor": 1
}
